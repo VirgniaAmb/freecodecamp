{
 "cells": [
  {
   "cell_type": "markdown",
   "id": "7c9e130a-0f3d-4ccf-8dd3-92a93ce78631",
   "metadata": {},
   "source": [
    "## Tensors"
   ]
  },
  {
   "cell_type": "markdown",
   "id": "561452d7-3f24-477f-af1b-bfbac7bdf803",
   "metadata": {},
   "source": [
    "\" A tensor is a generalization of vecotos and matrices to porentially higher dimensions. Internally, TensorFlow represents tensors as n-dimensional arrays of base datatypes.\" (https://www.tensorflow.org/guide/tensor)\n",
    "\n",
    "It should't surprise you that tensors are fundamental aspect of TensorFlow. They are the main objects that are passed around and manipulated throughout the program. Each tensor represents a partialy defined computation that will eventually produce a value. TensorFlow programs work by building a graph of Tensor objects that details how tensors are related. Running different parts of the graph allow results to be generated.\n",
    "\n",
    "Each tensor has a data type and a shape.\n",
    "\n",
    "**Data Types Include**: float32, int32, string and others.\n",
    "\n",
    "**Shape**: Represents the dimension of data. "
   ]
  },
  {
   "cell_type": "code",
   "execution_count": null,
   "id": "cc7de410-896a-4bd9-b5af-9e9f887af9df",
   "metadata": {},
   "outputs": [],
   "source": [
    "import tensorflow as tf\n",
    "import numpy as np"
   ]
  },
  {
   "cell_type": "markdown",
   "id": "09ad6e14-7941-4c10-aaa9-b4530cab4526",
   "metadata": {},
   "source": [
    "## Creating Tensors\n",
    "Below is an example of how to ccreate some different tensors"
   ]
  },
  {
   "cell_type": "code",
   "execution_count": null,
   "id": "babe1afb-cd94-44b8-8765-be9fa5bc682c",
   "metadata": {},
   "outputs": [],
   "source": [
    "string = "
   ]
  }
 ],
 "metadata": {
  "kernelspec": {
   "display_name": "Python 3 (ipykernel)",
   "language": "python",
   "name": "python3"
  },
  "language_info": {
   "codemirror_mode": {
    "name": "ipython",
    "version": 3
   },
   "file_extension": ".py",
   "mimetype": "text/x-python",
   "name": "python",
   "nbconvert_exporter": "python",
   "pygments_lexer": "ipython3",
   "version": "3.10.6"
  }
 },
 "nbformat": 4,
 "nbformat_minor": 5
}
